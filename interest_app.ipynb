{
 "cells": [
  {
   "cell_type": "code",
   "execution_count": null,
   "id": "9323d54c-a7a5-4ce6-8a5a-83de7317e56d",
   "metadata": {},
   "outputs": [],
   "source": [
    "import numpy as np\n",
    "import matplotlib.pyplot as plt\n",
    "from ipywidgets import interact, FloatSlider, IntSlider, Dropdown, Layout\n",
    "\n",
    "# Defaults\n",
    "P0, r0, years0, comp0 = 1000, 5.0, 10, 'Annual'\n"
   ]
  },
  {
   "cell_type": "code",
   "execution_count": null,
   "id": "4997b4d4-ad30-4045-ac94-edfc17b1f00c",
   "metadata": {},
   "outputs": [],
   "source": [
    "def update(P, r_pct, years, comp):\n",
    "    r = r_pct / 100.0\n",
    "    t = np.linspace(0, max(years, 1), 300)\n",
    "\n",
    "    # Simple\n",
    "    A_simple = P * (1 + r * t)\n",
    "\n",
    "    # Compound\n",
    "    if comp == 'Continuous':\n",
    "        A_comp = P * np.exp(r * t)\n",
    "        comp_label = 'Compound (continuous)'\n",
    "    else:\n",
    "        n = {'Annual': 1, 'Quarterly': 4, 'Monthly': 12, 'Daily': 365}[comp]\n",
    "        A_comp = P * (1 + r / n) ** (n * t)\n",
    "        comp_label = f'Compound (n={n})'\n",
    "\n",
    "    # Fresh figure each call (simple, robust in Voila)\n",
    "    plt.figure(figsize=(10, 6), dpi=150)\n",
    "    plt.plot(t, A_simple, linestyle='--', color='blue', linewidth=2, label='Simple interest')\n",
    "    plt.plot(t, A_comp, color='orange', linewidth=2, label=comp_label)\n",
    "    plt.xlabel('Years'); plt.ylabel('Amount ($)')\n",
    "    plt.title('Simple vs Compound Interest')\n",
    "    plt.grid(True, linewidth=0.5)\n",
    "    plt.legend()\n",
    "    plt.tight_layout()\n",
    "    plt.show()\n"
   ]
  },
  {
   "cell_type": "code",
   "execution_count": null,
   "id": "326a62af-1e54-47b8-be44-134a14d5ffa6",
   "metadata": {},
   "outputs": [],
   "source": [
    "narrow = Layout(width='45%')\n",
    "interact(\n",
    "    update,\n",
    "    P=FloatSlider(value=P0, min=100, max=20000, step=100, description='Principal ($)', layout=narrow),\n",
    "    r_pct=FloatSlider(value=r0, min=0.1, max=20.0, step=0.1, description='Rate (% p.a.)', layout=narrow),\n",
    "    years=IntSlider(value=years0, min=1, max=50, step=1, description='Years', layout=narrow),\n",
    "    comp=Dropdown(options=['Annual','Quarterly','Monthly','Daily','Continuous'],\n",
    "                  value=comp0, description='Compounding', layout=narrow)\n",
    ");\n"
   ]
  }
 ],
 "metadata": {
  "kernelspec": {
   "display_name": "Python [conda env:base] *",
   "language": "python",
   "name": "conda-base-py"
  },
  "language_info": {
   "codemirror_mode": {
    "name": "ipython",
    "version": 3
   },
   "file_extension": ".py",
   "mimetype": "text/x-python",
   "name": "python",
   "nbconvert_exporter": "python",
   "pygments_lexer": "ipython3",
   "version": "3.13.5"
  }
 },
 "nbformat": 4,
 "nbformat_minor": 5
}
