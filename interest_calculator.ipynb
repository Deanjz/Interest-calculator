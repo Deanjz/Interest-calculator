{
 "cells": [
  {
   "cell_type": "markdown",
   "id": "02c2965c-2d3a-46d8-938e-1570ff0ca9b7",
   "metadata": {},
   "source": [
    "#### Simple &  Compound Interest"
   ]
  },
  {
   "cell_type": "markdown",
   "id": "7407f819-b079-4826-872b-a2410fbcb680",
   "metadata": {},
   "source": [
    "# 📈 Simple vs Compound Interest Explorer\n",
    "\n",
    "This interactive tool lets you compare how simple and compound interest grow over time.\n",
    "\n",
    "### How to Use:\n",
    "- **Principal ($)** – The starting amount of money invested.\n",
    "- **Rate (%)** – The annual interest rate.\n",
    "- **Compounds/Year** – How often interest is added (e.g., 1 = yearly, 12 = monthly, 365 = daily).\n",
    "- **Years** – How long the money is invested.\n",
    "\n",
    "### What You'll See:\n",
    "- A **dashed line** showing growth with **Simple Interest** (linear).\n",
    "- A **solid line** showing growth with **Compound Interest** (exponential).\n",
    "\n",
    "Try adjusting the sliders to explore how:\n",
    "- Changing the **rate** affects growth\n",
    "- Increasing the **time** increases the gap between simple and compound\n",
    "- More **compounding periods** (like monthly or daily) accelerate compound growth\n",
    "\n",
    "🎯 *Which investment strategy earns more over time?*\n"
   ]
  },
  {
   "cell_type": "code",
   "execution_count": 1,
   "id": "746d55ef-881d-4eab-9bb0-f9eea58d29b7",
   "metadata": {},
   "outputs": [
    {
     "data": {
      "application/vnd.jupyter.widget-view+json": {
       "model_id": "357e78cc7a42430eae5e3c53c824de62",
       "version_major": 2,
       "version_minor": 0
      },
      "text/plain": [
       "interactive(children=(FloatSlider(value=1000.0, description='Principal ($)', max=10000.0, min=100.0, step=100.…"
      ]
     },
     "metadata": {},
     "output_type": "display_data"
    }
   ],
   "source": [
    "import numpy as np\n",
    "import matplotlib.pyplot as plt\n",
    "from ipywidgets import interact, FloatSlider, IntSlider\n",
    "\n",
    "# Define the simple interest function\n",
    "def simple_interest(P, r, t):\n",
    "    return P * (1 + r * t)\n",
    "\n",
    "# Define the compound interest function\n",
    "def compound_interest(P, r, n, t):\n",
    "    return P * (1 + r / n) ** (n * t)\n",
    "\n",
    "# Plotting function with sliders\n",
    "def plot_interest(P=1000, r=0.05, n=1, t_max=10):\n",
    "    t = np.linspace(0, t_max, 100)\n",
    "    A_simple = simple_interest(P, r, t)\n",
    "    A_compound = compound_interest(P, r, n, t)\n",
    "    \n",
    "    plt.figure(figsize=(10, 6))\n",
    "    plt.plot(t, A_simple, label=\"Simple Interest\", linestyle='--')\n",
    "    plt.plot(t, A_compound, label=\"Compound Interest\", linestyle='-')\n",
    "    plt.title(\"Simple vs Compound Interest Over Time\")\n",
    "    plt.xlabel(\"Time (years)\")\n",
    "    plt.ylabel(\"Balance ($)\")\n",
    "    plt.legend()\n",
    "    plt.grid(True)\n",
    "    plt.show()\n",
    "\n",
    "# Create interactive sliders\n",
    "interact(\n",
    "    plot_interest,\n",
    "    P=FloatSlider(value=1000, min=100, max=10000, step=100, description=\"Principal ($)\"),\n",
    "    r=FloatSlider(value=0.05, min=0.01, max=0.20, step=0.01, description=\"Rate (%)\"),\n",
    "    n=IntSlider(value=1, min=1, max=365, step=1, description=\"Compounds/Year\"),\n",
    "    t_max=IntSlider(value=10, min=1, max=50, step=1, description=\"Years\")\n",
    ");\n"
   ]
  },
  {
   "cell_type": "code",
   "execution_count": null,
   "id": "a50734ac-86c0-4029-ac13-9d5ef50da8a5",
   "metadata": {},
   "outputs": [],
   "source": []
  },
  {
   "cell_type": "code",
   "execution_count": null,
   "id": "8a4e607c-b5a3-4e26-a4c7-de7628ecab47",
   "metadata": {},
   "outputs": [],
   "source": []
  },
  {
   "cell_type": "code",
   "execution_count": null,
   "id": "05a9a1a4-8cb2-4003-90a0-5760fd9684db",
   "metadata": {},
   "outputs": [],
   "source": []
  },
  {
   "cell_type": "code",
   "execution_count": null,
   "id": "7da148f3-2d2d-4b22-8129-5bcd66eb7c3c",
   "metadata": {},
   "outputs": [],
   "source": []
  },
  {
   "cell_type": "code",
   "execution_count": null,
   "id": "36741bf3-ce28-4d60-869b-3093478e2c19",
   "metadata": {},
   "outputs": [],
   "source": []
  },
  {
   "cell_type": "code",
   "execution_count": null,
   "id": "81f558e5-8fa1-49ea-b8dc-11e3791cfbee",
   "metadata": {},
   "outputs": [],
   "source": []
  },
  {
   "cell_type": "code",
   "execution_count": null,
   "id": "9b4a8d73-4d3a-4724-b028-b0df914f9133",
   "metadata": {},
   "outputs": [],
   "source": []
  },
  {
   "cell_type": "code",
   "execution_count": null,
   "id": "ff540490-94f7-4b63-8f5f-05d428b4391d",
   "metadata": {},
   "outputs": [],
   "source": []
  },
  {
   "cell_type": "code",
   "execution_count": null,
   "id": "f2e3ada0-2386-490b-9771-41506cb84d59",
   "metadata": {},
   "outputs": [],
   "source": []
  }
 ],
 "metadata": {
  "kernelspec": {
   "display_name": "Python [conda env:base] *",
   "language": "python",
   "name": "conda-base-py"
  },
  "language_info": {
   "codemirror_mode": {
    "name": "ipython",
    "version": 3
   },
   "file_extension": ".py",
   "mimetype": "text/x-python",
   "name": "python",
   "nbconvert_exporter": "python",
   "pygments_lexer": "ipython3",
   "version": "3.13.5"
  }
 },
 "nbformat": 4,
 "nbformat_minor": 5
}
